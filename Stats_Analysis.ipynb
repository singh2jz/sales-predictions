{
  "nbformat": 4,
  "nbformat_minor": 0,
  "metadata": {
    "colab": {
      "name": "Project1Part4.ipynb",
      "provenance": [],
      "collapsed_sections": [],
      "mount_file_id": "1SMrgBjqm6XOuL55tUDseV0a0jw6oXSub",
      "authorship_tag": "ABX9TyMTmI35jihTceHCEvGmcB2O",
      "include_colab_link": true
    },
    "kernelspec": {
      "name": "python3",
      "display_name": "Python 3"
    },
    "language_info": {
      "name": "python"
    }
  },
  "cells": [
    {
      "cell_type": "markdown",
      "metadata": {
        "id": "view-in-github",
        "colab_type": "text"
      },
      "source": [
        "<a href=\"https://colab.research.google.com/github/singh2jz/sales-predictions/blob/main/Stats_Analysis.ipynb\" target=\"_parent\"><img src=\"https://colab.research.google.com/assets/colab-badge.svg\" alt=\"Open In Colab\"/></a>"
      ]
    },
    {
      "cell_type": "code",
      "metadata": {
        "id": "Ybpn_8F5srnQ"
      },
      "source": [
        "import pandas as pd\n",
        "import numpy as np\n",
        "import matplotlib.pyplot as plt\n",
        "import seaborn as sns"
      ],
      "execution_count": 2,
      "outputs": []
    },
    {
      "cell_type": "code",
      "metadata": {
        "id": "XCgeO4WDxYRv"
      },
      "source": [
        "df = pd.read_csv('/content/drive/MyDrive/Coding Dojo/Week 4/Data/Updated_Sales_Predictions.csv')"
      ],
      "execution_count": 3,
      "outputs": []
    },
    {
      "cell_type": "code",
      "metadata": {
        "colab": {
          "base_uri": "https://localhost:8080/",
          "height": 292
        },
        "id": "VztPBYOMxlVe",
        "outputId": "4b89124b-fd0f-49ba-d4de-95900c81feb1"
      },
      "source": [
        "df.head()"
      ],
      "execution_count": 9,
      "outputs": [
        {
          "output_type": "execute_result",
          "data": {
            "text/html": [
              "<div>\n",
              "<style scoped>\n",
              "    .dataframe tbody tr th:only-of-type {\n",
              "        vertical-align: middle;\n",
              "    }\n",
              "\n",
              "    .dataframe tbody tr th {\n",
              "        vertical-align: top;\n",
              "    }\n",
              "\n",
              "    .dataframe thead th {\n",
              "        text-align: right;\n",
              "    }\n",
              "</style>\n",
              "<table border=\"1\" class=\"dataframe\">\n",
              "  <thead>\n",
              "    <tr style=\"text-align: right;\">\n",
              "      <th></th>\n",
              "      <th>Item_Identifier</th>\n",
              "      <th>Item_Weight</th>\n",
              "      <th>Item_Fat_Content</th>\n",
              "      <th>Item_Visibility</th>\n",
              "      <th>Item_Type</th>\n",
              "      <th>Item_List_Price</th>\n",
              "      <th>Outlet_Identifier</th>\n",
              "      <th>Outlet_Establishment_Year</th>\n",
              "      <th>Outlet_Size</th>\n",
              "      <th>Outlet_Location_Type</th>\n",
              "      <th>Outlet_Type</th>\n",
              "      <th>Item_Outlet_Sales</th>\n",
              "    </tr>\n",
              "  </thead>\n",
              "  <tbody>\n",
              "    <tr>\n",
              "      <th>0</th>\n",
              "      <td>DRA12</td>\n",
              "      <td>11.6</td>\n",
              "      <td>Low Fat</td>\n",
              "      <td>0.068535</td>\n",
              "      <td>Soft Drinks</td>\n",
              "      <td>143.0154</td>\n",
              "      <td>OUT010</td>\n",
              "      <td>1998</td>\n",
              "      <td>NaN</td>\n",
              "      <td>Tier 3</td>\n",
              "      <td>Grocery Store</td>\n",
              "      <td>283.6308</td>\n",
              "    </tr>\n",
              "    <tr>\n",
              "      <th>1</th>\n",
              "      <td>DRA12</td>\n",
              "      <td>11.6</td>\n",
              "      <td>Low Fat</td>\n",
              "      <td>0.041178</td>\n",
              "      <td>Soft Drinks</td>\n",
              "      <td>140.3154</td>\n",
              "      <td>OUT017</td>\n",
              "      <td>2007</td>\n",
              "      <td>NaN</td>\n",
              "      <td>Tier 2</td>\n",
              "      <td>Supermarket Type1</td>\n",
              "      <td>2552.6772</td>\n",
              "    </tr>\n",
              "    <tr>\n",
              "      <th>2</th>\n",
              "      <td>DRA12</td>\n",
              "      <td>11.6</td>\n",
              "      <td>Low Fat</td>\n",
              "      <td>0.000000</td>\n",
              "      <td>Soft Drinks</td>\n",
              "      <td>141.9154</td>\n",
              "      <td>OUT035</td>\n",
              "      <td>2004</td>\n",
              "      <td>Small</td>\n",
              "      <td>Tier 2</td>\n",
              "      <td>Supermarket Type1</td>\n",
              "      <td>992.7078</td>\n",
              "    </tr>\n",
              "    <tr>\n",
              "      <th>3</th>\n",
              "      <td>DRA12</td>\n",
              "      <td>11.6</td>\n",
              "      <td>Low Fat</td>\n",
              "      <td>0.000000</td>\n",
              "      <td>Soft Drinks</td>\n",
              "      <td>141.6154</td>\n",
              "      <td>OUT045</td>\n",
              "      <td>2002</td>\n",
              "      <td>NaN</td>\n",
              "      <td>Tier 2</td>\n",
              "      <td>Supermarket Type1</td>\n",
              "      <td>3829.0158</td>\n",
              "    </tr>\n",
              "    <tr>\n",
              "      <th>4</th>\n",
              "      <td>DRA12</td>\n",
              "      <td>11.6</td>\n",
              "      <td>Low Fat</td>\n",
              "      <td>0.040912</td>\n",
              "      <td>Soft Drinks</td>\n",
              "      <td>142.3154</td>\n",
              "      <td>OUT013</td>\n",
              "      <td>1987</td>\n",
              "      <td>High</td>\n",
              "      <td>Tier 3</td>\n",
              "      <td>Supermarket Type1</td>\n",
              "      <td>2552.6772</td>\n",
              "    </tr>\n",
              "  </tbody>\n",
              "</table>\n",
              "</div>"
            ],
            "text/plain": [
              "  Item_Identifier  Item_Weight  ...        Outlet_Type  Item_Outlet_Sales\n",
              "0           DRA12         11.6  ...      Grocery Store           283.6308\n",
              "1           DRA12         11.6  ...  Supermarket Type1          2552.6772\n",
              "2           DRA12         11.6  ...  Supermarket Type1           992.7078\n",
              "3           DRA12         11.6  ...  Supermarket Type1          3829.0158\n",
              "4           DRA12         11.6  ...  Supermarket Type1          2552.6772\n",
              "\n",
              "[5 rows x 12 columns]"
            ]
          },
          "metadata": {
            "tags": []
          },
          "execution_count": 9
        }
      ]
    },
    {
      "cell_type": "code",
      "metadata": {
        "colab": {
          "base_uri": "https://localhost:8080/"
        },
        "id": "kZpfDjNax4I4",
        "outputId": "ae616ce1-50de-4589-bccf-a45b0502fb70"
      },
      "source": [
        "df.info()"
      ],
      "execution_count": 10,
      "outputs": [
        {
          "output_type": "stream",
          "text": [
            "<class 'pandas.core.frame.DataFrame'>\n",
            "RangeIndex: 8523 entries, 0 to 8522\n",
            "Data columns (total 12 columns):\n",
            " #   Column                     Non-Null Count  Dtype  \n",
            "---  ------                     --------------  -----  \n",
            " 0   Item_Identifier            8523 non-null   object \n",
            " 1   Item_Weight                7060 non-null   float64\n",
            " 2   Item_Fat_Content           8523 non-null   object \n",
            " 3   Item_Visibility            8523 non-null   float64\n",
            " 4   Item_Type                  8523 non-null   object \n",
            " 5   Item_List_Price            8523 non-null   float64\n",
            " 6   Outlet_Identifier          8523 non-null   object \n",
            " 7   Outlet_Establishment_Year  8523 non-null   int64  \n",
            " 8   Outlet_Size                6113 non-null   object \n",
            " 9   Outlet_Location_Type       8523 non-null   object \n",
            " 10  Outlet_Type                8523 non-null   object \n",
            " 11  Item_Outlet_Sales          8523 non-null   float64\n",
            "dtypes: float64(4), int64(1), object(7)\n",
            "memory usage: 799.2+ KB\n"
          ],
          "name": "stdout"
        }
      ]
    },
    {
      "cell_type": "code",
      "metadata": {
        "colab": {
          "base_uri": "https://localhost:8080/",
          "height": 390
        },
        "id": "KaVR1pI3yo42",
        "outputId": "457ce82d-b65c-492e-ddc5-f9ee4ce82e91"
      },
      "source": [
        "df.groupby(['Outlet_Identifier'])[['Item_Outlet_Sales']].sum()"
      ],
      "execution_count": 11,
      "outputs": [
        {
          "output_type": "execute_result",
          "data": {
            "text/html": [
              "<div>\n",
              "<style scoped>\n",
              "    .dataframe tbody tr th:only-of-type {\n",
              "        vertical-align: middle;\n",
              "    }\n",
              "\n",
              "    .dataframe tbody tr th {\n",
              "        vertical-align: top;\n",
              "    }\n",
              "\n",
              "    .dataframe thead th {\n",
              "        text-align: right;\n",
              "    }\n",
              "</style>\n",
              "<table border=\"1\" class=\"dataframe\">\n",
              "  <thead>\n",
              "    <tr style=\"text-align: right;\">\n",
              "      <th></th>\n",
              "      <th>Item_Outlet_Sales</th>\n",
              "    </tr>\n",
              "    <tr>\n",
              "      <th>Outlet_Identifier</th>\n",
              "      <th></th>\n",
              "    </tr>\n",
              "  </thead>\n",
              "  <tbody>\n",
              "    <tr>\n",
              "      <th>OUT010</th>\n",
              "      <td>1.883402e+05</td>\n",
              "    </tr>\n",
              "    <tr>\n",
              "      <th>OUT013</th>\n",
              "      <td>2.142664e+06</td>\n",
              "    </tr>\n",
              "    <tr>\n",
              "      <th>OUT017</th>\n",
              "      <td>2.167465e+06</td>\n",
              "    </tr>\n",
              "    <tr>\n",
              "      <th>OUT018</th>\n",
              "      <td>1.851823e+06</td>\n",
              "    </tr>\n",
              "    <tr>\n",
              "      <th>OUT019</th>\n",
              "      <td>1.796941e+05</td>\n",
              "    </tr>\n",
              "    <tr>\n",
              "      <th>OUT027</th>\n",
              "      <td>3.453926e+06</td>\n",
              "    </tr>\n",
              "    <tr>\n",
              "      <th>OUT035</th>\n",
              "      <td>2.268123e+06</td>\n",
              "    </tr>\n",
              "    <tr>\n",
              "      <th>OUT045</th>\n",
              "      <td>2.036725e+06</td>\n",
              "    </tr>\n",
              "    <tr>\n",
              "      <th>OUT046</th>\n",
              "      <td>2.118395e+06</td>\n",
              "    </tr>\n",
              "    <tr>\n",
              "      <th>OUT049</th>\n",
              "      <td>2.183970e+06</td>\n",
              "    </tr>\n",
              "  </tbody>\n",
              "</table>\n",
              "</div>"
            ],
            "text/plain": [
              "                   Item_Outlet_Sales\n",
              "Outlet_Identifier                   \n",
              "OUT010                  1.883402e+05\n",
              "OUT013                  2.142664e+06\n",
              "OUT017                  2.167465e+06\n",
              "OUT018                  1.851823e+06\n",
              "OUT019                  1.796941e+05\n",
              "OUT027                  3.453926e+06\n",
              "OUT035                  2.268123e+06\n",
              "OUT045                  2.036725e+06\n",
              "OUT046                  2.118395e+06\n",
              "OUT049                  2.183970e+06"
            ]
          },
          "metadata": {
            "tags": []
          },
          "execution_count": 11
        }
      ]
    },
    {
      "cell_type": "code",
      "metadata": {
        "id": "SIBx9IcczMvK"
      },
      "source": [
        "total_sales = df.groupby(['Outlet_Identifier'])[['Item_Outlet_Sales']].sum()\n",
        "avg_sales = df.groupby(['Outlet_Identifier'])[['Item_Outlet_Sales']].mean()"
      ],
      "execution_count": 12,
      "outputs": []
    },
    {
      "cell_type": "code",
      "metadata": {
        "colab": {
          "base_uri": "https://localhost:8080/",
          "height": 382
        },
        "id": "Kb07Nu52xnqJ",
        "outputId": "5d19ceb1-b7cb-4b71-f45f-f77712343529"
      },
      "source": [
        "#Outlets's total revenue\n",
        "total_sales = total_sales.sort_values('Item_Outlet_Sales')\n",
        "plt.style.use('seaborn')\n",
        "plt.bar(total_sales.index, total_sales['Item_Outlet_Sales']);\n",
        "plt.xlabel('Outlets', fontsize = 15);\n",
        "plt.ylabel('Total Sales x 1,000,000', fontsize = 15);\n",
        "plt.title('Sales Total by Outlet', fontsize = 15);\n",
        "plt.ylim(bottom=0,top=4000000);"
      ],
      "execution_count": 13,
      "outputs": [
        {
          "output_type": "display_data",
          "data": {
            "image/png": "[encoded data removed]",
            "text/plain": [
              "<Figure size 576x396 with 1 Axes>"
            ]
          },
          "metadata": {
            "tags": []
          }
        }
      ]
    },
    {
      "cell_type": "code",
      "metadata": {
        "colab": {
          "base_uri": "https://localhost:8080/",
          "height": 382
        },
        "id": "T3J_VK8CxzL3",
        "outputId": "2cb74f2f-2531-4045-fd3e-0aef42701f1d"
      },
      "source": [
        "#seeing the avg revenue too\n",
        "#comparing the total and avg\n",
        "avg_sales = avg_sales.sort_values('Item_Outlet_Sales')\n",
        "plt.style.use('seaborn')\n",
        "plt.bar(avg_sales.index, avg_sales['Item_Outlet_Sales']);\n",
        "plt.xlabel('Outlets', fontsize = 15);\n",
        "plt.ylabel('Average Sales', fontsize = 15);\n",
        "plt.title('Sales Total Average by Outlet', fontsize = 15);\n",
        "plt.ylim(top=4000);"
      ],
      "execution_count": 14,
      "outputs": [
        {
          "output_type": "display_data",
          "data": {
            "image/png": "[encoded data removed]",
            "text/plain": [
              "<Figure size 576x396 with 1 Axes>"
            ]
          },
          "metadata": {
            "tags": []
          }
        }
      ]
    },
    {
      "cell_type": "code",
      "metadata": {
        "id": "q9ZZTsjgztzv"
      },
      "source": [
        "vis_total = df.groupby(['Item_Identifier'])[['Item_Visibility']].sum()"
      ],
      "execution_count": 15,
      "outputs": []
    },
    {
      "cell_type": "code",
      "metadata": {
        "id": "NL_VCibSz4KW"
      },
      "source": [
        "vis_top10 = vis_total.sort_values('Item_Visibility', ascending=False)"
      ],
      "execution_count": 16,
      "outputs": []
    },
    {
      "cell_type": "code",
      "metadata": {
        "id": "FS3pIFXnz6wC"
      },
      "source": [
        "vis_top10 = vis_top10.head(10)"
      ],
      "execution_count": 17,
      "outputs": []
    },
    {
      "cell_type": "code",
      "metadata": {
        "id": "XlM1JlJT0Au3"
      },
      "source": [
        "vis_sales = df.groupby(['Item_Identifier'])[['Item_Outlet_Sales', 'Item_Visibility']].sum()"
      ],
      "execution_count": 18,
      "outputs": []
    },
    {
      "cell_type": "code",
      "metadata": {
        "id": "QDgEiFqF2mEG"
      },
      "source": [
        "vis_sales = vis_sales.sort_values('Item_Visibility')"
      ],
      "execution_count": 19,
      "outputs": []
    },
    {
      "cell_type": "code",
      "metadata": {
        "id": "4HrfNldE6hjC"
      },
      "source": [
        "vis_sales_top10 = vis_sales.head(10)"
      ],
      "execution_count": 20,
      "outputs": []
    },
    {
      "cell_type": "code",
      "metadata": {
        "colab": {
          "base_uri": "https://localhost:8080/",
          "height": 382
        },
        "id": "w_pTcPoe9BYq",
        "outputId": "4c35dae6-b5b5-4dfc-b9f8-dd447bfb3df6"
      },
      "source": [
        "#Total sales for top 10 items with the least visibility\n",
        "#Might add more because this info is good but need something to compare to.\n",
        "plt.style.use('seaborn')\n",
        "plt.bar(vis_sales_top10.index, vis_sales_top10['Item_Outlet_Sales']);\n",
        "plt.xlabel('Items with Least Visibility', fontsize = 15);\n",
        "plt.ylabel('Total Sales', fontsize = 15);\n",
        "plt.title('Sales Totals for Top 10 Items with Least Visibility', fontsize = 15);"
      ],
      "execution_count": 21,
      "outputs": [
        {
          "output_type": "display_data",
          "data": {
            "image/png": "[encoded data removed]",
            "text/plain": [
              "<Figure size 576x396 with 1 Axes>"
            ]
          },
          "metadata": {
            "tags": []
          }
        }
      ]
    },
    {
      "cell_type": "code",
      "metadata": {
        "colab": {
          "base_uri": "https://localhost:8080/"
        },
        "id": "TB1F5SqYm0m7",
        "outputId": "3026dc39-4601-452f-8b6c-4891b0aa3070"
      },
      "source": [
        "df.info()"
      ],
      "execution_count": 22,
      "outputs": [
        {
          "output_type": "stream",
          "text": [
            "<class 'pandas.core.frame.DataFrame'>\n",
            "RangeIndex: 8523 entries, 0 to 8522\n",
            "Data columns (total 12 columns):\n",
            " #   Column                     Non-Null Count  Dtype  \n",
            "---  ------                     --------------  -----  \n",
            " 0   Item_Identifier            8523 non-null   object \n",
            " 1   Item_Weight                7060 non-null   float64\n",
            " 2   Item_Fat_Content           8523 non-null   object \n",
            " 3   Item_Visibility            8523 non-null   float64\n",
            " 4   Item_Type                  8523 non-null   object \n",
            " 5   Item_List_Price            8523 non-null   float64\n",
            " 6   Outlet_Identifier          8523 non-null   object \n",
            " 7   Outlet_Establishment_Year  8523 non-null   int64  \n",
            " 8   Outlet_Size                6113 non-null   object \n",
            " 9   Outlet_Location_Type       8523 non-null   object \n",
            " 10  Outlet_Type                8523 non-null   object \n",
            " 11  Item_Outlet_Sales          8523 non-null   float64\n",
            "dtypes: float64(4), int64(1), object(7)\n",
            "memory usage: 799.2+ KB\n"
          ],
          "name": "stdout"
        }
      ]
    },
    {
      "cell_type": "code",
      "metadata": {
        "colab": {
          "base_uri": "https://localhost:8080/",
          "height": 292
        },
        "id": "oW_x0yNdpXUo",
        "outputId": "9f73138e-f95e-4571-cabd-281554d9002c"
      },
      "source": [
        "df.head()"
      ],
      "execution_count": 23,
      "outputs": [
        {
          "output_type": "execute_result",
          "data": {
            "text/html": [
              "<div>\n",
              "<style scoped>\n",
              "    .dataframe tbody tr th:only-of-type {\n",
              "        vertical-align: middle;\n",
              "    }\n",
              "\n",
              "    .dataframe tbody tr th {\n",
              "        vertical-align: top;\n",
              "    }\n",
              "\n",
              "    .dataframe thead th {\n",
              "        text-align: right;\n",
              "    }\n",
              "</style>\n",
              "<table border=\"1\" class=\"dataframe\">\n",
              "  <thead>\n",
              "    <tr style=\"text-align: right;\">\n",
              "      <th></th>\n",
              "      <th>Item_Identifier</th>\n",
              "      <th>Item_Weight</th>\n",
              "      <th>Item_Fat_Content</th>\n",
              "      <th>Item_Visibility</th>\n",
              "      <th>Item_Type</th>\n",
              "      <th>Item_List_Price</th>\n",
              "      <th>Outlet_Identifier</th>\n",
              "      <th>Outlet_Establishment_Year</th>\n",
              "      <th>Outlet_Size</th>\n",
              "      <th>Outlet_Location_Type</th>\n",
              "      <th>Outlet_Type</th>\n",
              "      <th>Item_Outlet_Sales</th>\n",
              "    </tr>\n",
              "  </thead>\n",
              "  <tbody>\n",
              "    <tr>\n",
              "      <th>0</th>\n",
              "      <td>DRA12</td>\n",
              "      <td>11.6</td>\n",
              "      <td>Low Fat</td>\n",
              "      <td>0.068535</td>\n",
              "      <td>Soft Drinks</td>\n",
              "      <td>143.0154</td>\n",
              "      <td>OUT010</td>\n",
              "      <td>1998</td>\n",
              "      <td>NaN</td>\n",
              "      <td>Tier 3</td>\n",
              "      <td>Grocery Store</td>\n",
              "      <td>283.6308</td>\n",
              "    </tr>\n",
              "    <tr>\n",
              "      <th>1</th>\n",
              "      <td>DRA12</td>\n",
              "      <td>11.6</td>\n",
              "      <td>Low Fat</td>\n",
              "      <td>0.041178</td>\n",
              "      <td>Soft Drinks</td>\n",
              "      <td>140.3154</td>\n",
              "      <td>OUT017</td>\n",
              "      <td>2007</td>\n",
              "      <td>NaN</td>\n",
              "      <td>Tier 2</td>\n",
              "      <td>Supermarket Type1</td>\n",
              "      <td>2552.6772</td>\n",
              "    </tr>\n",
              "    <tr>\n",
              "      <th>2</th>\n",
              "      <td>DRA12</td>\n",
              "      <td>11.6</td>\n",
              "      <td>Low Fat</td>\n",
              "      <td>0.000000</td>\n",
              "      <td>Soft Drinks</td>\n",
              "      <td>141.9154</td>\n",
              "      <td>OUT035</td>\n",
              "      <td>2004</td>\n",
              "      <td>Small</td>\n",
              "      <td>Tier 2</td>\n",
              "      <td>Supermarket Type1</td>\n",
              "      <td>992.7078</td>\n",
              "    </tr>\n",
              "    <tr>\n",
              "      <th>3</th>\n",
              "      <td>DRA12</td>\n",
              "      <td>11.6</td>\n",
              "      <td>Low Fat</td>\n",
              "      <td>0.000000</td>\n",
              "      <td>Soft Drinks</td>\n",
              "      <td>141.6154</td>\n",
              "      <td>OUT045</td>\n",
              "      <td>2002</td>\n",
              "      <td>NaN</td>\n",
              "      <td>Tier 2</td>\n",
              "      <td>Supermarket Type1</td>\n",
              "      <td>3829.0158</td>\n",
              "    </tr>\n",
              "    <tr>\n",
              "      <th>4</th>\n",
              "      <td>DRA12</td>\n",
              "      <td>11.6</td>\n",
              "      <td>Low Fat</td>\n",
              "      <td>0.040912</td>\n",
              "      <td>Soft Drinks</td>\n",
              "      <td>142.3154</td>\n",
              "      <td>OUT013</td>\n",
              "      <td>1987</td>\n",
              "      <td>High</td>\n",
              "      <td>Tier 3</td>\n",
              "      <td>Supermarket Type1</td>\n",
              "      <td>2552.6772</td>\n",
              "    </tr>\n",
              "  </tbody>\n",
              "</table>\n",
              "</div>"
            ],
            "text/plain": [
              "  Item_Identifier  Item_Weight  ...        Outlet_Type  Item_Outlet_Sales\n",
              "0           DRA12         11.6  ...      Grocery Store           283.6308\n",
              "1           DRA12         11.6  ...  Supermarket Type1          2552.6772\n",
              "2           DRA12         11.6  ...  Supermarket Type1           992.7078\n",
              "3           DRA12         11.6  ...  Supermarket Type1          3829.0158\n",
              "4           DRA12         11.6  ...  Supermarket Type1          2552.6772\n",
              "\n",
              "[5 rows x 12 columns]"
            ]
          },
          "metadata": {
            "tags": []
          },
          "execution_count": 23
        }
      ]
    },
    {
      "cell_type": "code",
      "metadata": {
        "id": "bzjuMriJpp5M"
      },
      "source": [
        "Outlet_ALP = df.groupby(['Outlet_Identifier'])[['Item_List_Price']].mean()"
      ],
      "execution_count": 24,
      "outputs": []
    },
    {
      "cell_type": "code",
      "metadata": {
        "id": "q3IO1suHqQpF"
      },
      "source": [
        "Outlet_ALP = Outlet_ALP.sort_values('Item_List_Price')"
      ],
      "execution_count": 25,
      "outputs": []
    },
    {
      "cell_type": "code",
      "metadata": {
        "colab": {
          "base_uri": "https://localhost:8080/",
          "height": 382
        },
        "id": "3ZlYnVklqp3D",
        "outputId": "839e86eb-96d6-44c1-d5e3-a78640afafc7"
      },
      "source": [
        "#shows outlets' average list price. Cheapest store to shop at to the most expensive\n",
        "#skewed because of y limits but still figuring out what to do with this\n",
        "plt.style.use('seaborn')\n",
        "plt.bar(Outlet_ALP.index, Outlet_ALP['Item_List_Price'], alpha=.8);\n",
        "plt.xlabel('Outlets', fontsize = 15);\n",
        "plt.ylabel('Average List Price', fontsize = 15);\n",
        "plt.title('Average List Price for Outlets', fontsize = 15);\n",
        "plt.ylim(bottom=138, top=144);"
      ],
      "execution_count": 26,
      "outputs": [
        {
          "output_type": "display_data",
          "data": {
            "image/png": "[encoded data removed]",
            "text/plain": [
              "<Figure size 576x396 with 1 Axes>"
            ]
          },
          "metadata": {
            "tags": []
          }
        }
      ]
    },
    {
      "cell_type": "code",
      "metadata": {
        "id": "NGARGCCzq91X"
      },
      "source": [
        "#divide the item outlet sales by item list price to see how many they sold\n",
        "#this might be somewhat flawed. might need to do sum of sales divided by mean of list price\n",
        "numItems = df.groupby(['Outlet_Identifier'])[['Item_Outlet_Sales', 'Item_List_Price']].mean()"
      ],
      "execution_count": 27,
      "outputs": []
    },
    {
      "cell_type": "code",
      "metadata": {
        "colab": {
          "base_uri": "https://localhost:8080/",
          "height": 390
        },
        "id": "rvEaZZG_xEy0",
        "outputId": "113b7c00-10df-430c-8dc3-5c298f426578"
      },
      "source": [
        "numItems"
      ],
      "execution_count": 28,
      "outputs": [
        {
          "output_type": "execute_result",
          "data": {
            "text/html": [
              "<div>\n",
              "<style scoped>\n",
              "    .dataframe tbody tr th:only-of-type {\n",
              "        vertical-align: middle;\n",
              "    }\n",
              "\n",
              "    .dataframe tbody tr th {\n",
              "        vertical-align: top;\n",
              "    }\n",
              "\n",
              "    .dataframe thead th {\n",
              "        text-align: right;\n",
              "    }\n",
              "</style>\n",
              "<table border=\"1\" class=\"dataframe\">\n",
              "  <thead>\n",
              "    <tr style=\"text-align: right;\">\n",
              "      <th></th>\n",
              "      <th>Item_Outlet_Sales</th>\n",
              "      <th>Item_List_Price</th>\n",
              "    </tr>\n",
              "    <tr>\n",
              "      <th>Outlet_Identifier</th>\n",
              "      <th></th>\n",
              "      <th></th>\n",
              "    </tr>\n",
              "  </thead>\n",
              "  <tbody>\n",
              "    <tr>\n",
              "      <th>OUT010</th>\n",
              "      <td>339.351662</td>\n",
              "      <td>140.777594</td>\n",
              "    </tr>\n",
              "    <tr>\n",
              "      <th>OUT013</th>\n",
              "      <td>2298.995256</td>\n",
              "      <td>141.425982</td>\n",
              "    </tr>\n",
              "    <tr>\n",
              "      <th>OUT017</th>\n",
              "      <td>2340.675263</td>\n",
              "      <td>139.421119</td>\n",
              "    </tr>\n",
              "    <tr>\n",
              "      <th>OUT018</th>\n",
              "      <td>1995.498739</td>\n",
              "      <td>141.678634</td>\n",
              "    </tr>\n",
              "    <tr>\n",
              "      <th>OUT019</th>\n",
              "      <td>340.329723</td>\n",
              "      <td>139.787088</td>\n",
              "    </tr>\n",
              "    <tr>\n",
              "      <th>OUT027</th>\n",
              "      <td>3694.038558</td>\n",
              "      <td>139.801791</td>\n",
              "    </tr>\n",
              "    <tr>\n",
              "      <th>OUT035</th>\n",
              "      <td>2438.841866</td>\n",
              "      <td>143.122481</td>\n",
              "    </tr>\n",
              "    <tr>\n",
              "      <th>OUT045</th>\n",
              "      <td>2192.384798</td>\n",
              "      <td>140.950246</td>\n",
              "    </tr>\n",
              "    <tr>\n",
              "      <th>OUT046</th>\n",
              "      <td>2277.844267</td>\n",
              "      <td>142.057387</td>\n",
              "    </tr>\n",
              "    <tr>\n",
              "      <th>OUT049</th>\n",
              "      <td>2348.354635</td>\n",
              "      <td>140.297699</td>\n",
              "    </tr>\n",
              "  </tbody>\n",
              "</table>\n",
              "</div>"
            ],
            "text/plain": [
              "                   Item_Outlet_Sales  Item_List_Price\n",
              "Outlet_Identifier                                    \n",
              "OUT010                    339.351662       140.777594\n",
              "OUT013                   2298.995256       141.425982\n",
              "OUT017                   2340.675263       139.421119\n",
              "OUT018                   1995.498739       141.678634\n",
              "OUT019                    340.329723       139.787088\n",
              "OUT027                   3694.038558       139.801791\n",
              "OUT035                   2438.841866       143.122481\n",
              "OUT045                   2192.384798       140.950246\n",
              "OUT046                   2277.844267       142.057387\n",
              "OUT049                   2348.354635       140.297699"
            ]
          },
          "metadata": {
            "tags": []
          },
          "execution_count": 28
        }
      ]
    },
    {
      "cell_type": "code",
      "metadata": {
        "id": "LLPUSecSxb0m"
      },
      "source": [
        "avgItems = numItems['Item_Outlet_Sales'] / numItems['Item_List_Price']"
      ],
      "execution_count": 29,
      "outputs": []
    },
    {
      "cell_type": "code",
      "metadata": {
        "colab": {
          "base_uri": "https://localhost:8080/",
          "height": 347
        },
        "id": "ndK4gQlo00ID",
        "outputId": "afb041d8-6d6c-4f6b-d34b-f942613ef6f2"
      },
      "source": [
        "plt.bar(numItems.index, avgItems);"
      ],
      "execution_count": 30,
      "outputs": [
        {
          "output_type": "display_data",
          "data": {
            "image/png": "[encoded data removed]",
            "text/plain": [
              "<Figure size 576x396 with 1 Axes>"
            ]
          },
          "metadata": {
            "tags": []
          }
        }
      ]
    },
    {
      "cell_type": "markdown",
      "metadata": {
        "id": "BtwoP7ee78dY"
      },
      "source": [
        "# Part 4\n",
        "\n",
        "## Histograms, Boxplots, Heatmaps"
      ]
    },
    {
      "cell_type": "code",
      "metadata": {
        "id": "YMTRqJBGAEi2",
        "colab": {
          "base_uri": "https://localhost:8080/",
          "height": 292
        },
        "outputId": "b59fb0f5-6227-4846-831d-4beb1b22f120"
      },
      "source": [
        "df.head()"
      ],
      "execution_count": 31,
      "outputs": [
        {
          "output_type": "execute_result",
          "data": {
            "text/html": [
              "<div>\n",
              "<style scoped>\n",
              "    .dataframe tbody tr th:only-of-type {\n",
              "        vertical-align: middle;\n",
              "    }\n",
              "\n",
              "    .dataframe tbody tr th {\n",
              "        vertical-align: top;\n",
              "    }\n",
              "\n",
              "    .dataframe thead th {\n",
              "        text-align: right;\n",
              "    }\n",
              "</style>\n",
              "<table border=\"1\" class=\"dataframe\">\n",
              "  <thead>\n",
              "    <tr style=\"text-align: right;\">\n",
              "      <th></th>\n",
              "      <th>Item_Identifier</th>\n",
              "      <th>Item_Weight</th>\n",
              "      <th>Item_Fat_Content</th>\n",
              "      <th>Item_Visibility</th>\n",
              "      <th>Item_Type</th>\n",
              "      <th>Item_List_Price</th>\n",
              "      <th>Outlet_Identifier</th>\n",
              "      <th>Outlet_Establishment_Year</th>\n",
              "      <th>Outlet_Size</th>\n",
              "      <th>Outlet_Location_Type</th>\n",
              "      <th>Outlet_Type</th>\n",
              "      <th>Item_Outlet_Sales</th>\n",
              "    </tr>\n",
              "  </thead>\n",
              "  <tbody>\n",
              "    <tr>\n",
              "      <th>0</th>\n",
              "      <td>DRA12</td>\n",
              "      <td>11.6</td>\n",
              "      <td>Low Fat</td>\n",
              "      <td>0.068535</td>\n",
              "      <td>Soft Drinks</td>\n",
              "      <td>143.0154</td>\n",
              "      <td>OUT010</td>\n",
              "      <td>1998</td>\n",
              "      <td>NaN</td>\n",
              "      <td>Tier 3</td>\n",
              "      <td>Grocery Store</td>\n",
              "      <td>283.6308</td>\n",
              "    </tr>\n",
              "    <tr>\n",
              "      <th>1</th>\n",
              "      <td>DRA12</td>\n",
              "      <td>11.6</td>\n",
              "      <td>Low Fat</td>\n",
              "      <td>0.041178</td>\n",
              "      <td>Soft Drinks</td>\n",
              "      <td>140.3154</td>\n",
              "      <td>OUT017</td>\n",
              "      <td>2007</td>\n",
              "      <td>NaN</td>\n",
              "      <td>Tier 2</td>\n",
              "      <td>Supermarket Type1</td>\n",
              "      <td>2552.6772</td>\n",
              "    </tr>\n",
              "    <tr>\n",
              "      <th>2</th>\n",
              "      <td>DRA12</td>\n",
              "      <td>11.6</td>\n",
              "      <td>Low Fat</td>\n",
              "      <td>0.000000</td>\n",
              "      <td>Soft Drinks</td>\n",
              "      <td>141.9154</td>\n",
              "      <td>OUT035</td>\n",
              "      <td>2004</td>\n",
              "      <td>Small</td>\n",
              "      <td>Tier 2</td>\n",
              "      <td>Supermarket Type1</td>\n",
              "      <td>992.7078</td>\n",
              "    </tr>\n",
              "    <tr>\n",
              "      <th>3</th>\n",
              "      <td>DRA12</td>\n",
              "      <td>11.6</td>\n",
              "      <td>Low Fat</td>\n",
              "      <td>0.000000</td>\n",
              "      <td>Soft Drinks</td>\n",
              "      <td>141.6154</td>\n",
              "      <td>OUT045</td>\n",
              "      <td>2002</td>\n",
              "      <td>NaN</td>\n",
              "      <td>Tier 2</td>\n",
              "      <td>Supermarket Type1</td>\n",
              "      <td>3829.0158</td>\n",
              "    </tr>\n",
              "    <tr>\n",
              "      <th>4</th>\n",
              "      <td>DRA12</td>\n",
              "      <td>11.6</td>\n",
              "      <td>Low Fat</td>\n",
              "      <td>0.040912</td>\n",
              "      <td>Soft Drinks</td>\n",
              "      <td>142.3154</td>\n",
              "      <td>OUT013</td>\n",
              "      <td>1987</td>\n",
              "      <td>High</td>\n",
              "      <td>Tier 3</td>\n",
              "      <td>Supermarket Type1</td>\n",
              "      <td>2552.6772</td>\n",
              "    </tr>\n",
              "  </tbody>\n",
              "</table>\n",
              "</div>"
            ],
            "text/plain": [
              "  Item_Identifier  Item_Weight  ...        Outlet_Type  Item_Outlet_Sales\n",
              "0           DRA12         11.6  ...      Grocery Store           283.6308\n",
              "1           DRA12         11.6  ...  Supermarket Type1          2552.6772\n",
              "2           DRA12         11.6  ...  Supermarket Type1           992.7078\n",
              "3           DRA12         11.6  ...  Supermarket Type1          3829.0158\n",
              "4           DRA12         11.6  ...  Supermarket Type1          2552.6772\n",
              "\n",
              "[5 rows x 12 columns]"
            ]
          },
          "metadata": {
            "tags": []
          },
          "execution_count": 31
        }
      ]
    },
    {
      "cell_type": "code",
      "metadata": {
        "colab": {
          "base_uri": "https://localhost:8080/",
          "height": 479
        },
        "id": "o6QJu0J47d1Y",
        "outputId": "43561321-02d4-4d5b-a3c0-13552f9abe05"
      },
      "source": [
        "#heatmap. This one shows moderate positive correlation between item list price and item outlet sales\n",
        "corr = df.corr()\n",
        "sns.heatmap(corr, cmap = 'Greens', annot=True)"
      ],
      "execution_count": 38,
      "outputs": [
        {
          "output_type": "execute_result",
          "data": {
            "text/plain": [
              "<matplotlib.axes._subplots.AxesSubplot at 0x7fcf4e2bedd0>"
            ]
          },
          "metadata": {
            "tags": []
          },
          "execution_count": 38
        },
        {
          "output_type": "display_data",
          "data": {
            "image/png": "[encoded data removed]",
            "text/plain": [
              "<Figure size 576x396 with 2 Axes>"
            ]
          },
          "metadata": {
            "tags": []
          }
        }
      ]
    },
    {
      "cell_type": "code",
      "metadata": {
        "colab": {
          "base_uri": "https://localhost:8080/",
          "height": 369
        },
        "id": "NsvmQO2ffNy1",
        "outputId": "3cb933db-2c35-4a3e-ea9c-5799dc7b437e"
      },
      "source": [
        "#boxplot for item visibilty. low fat vs regular\n",
        "plt.figure(figsize = (15, 5))\n",
        "\n",
        "plt.subplot(2, 1, 1)\n",
        "f = sns.boxplot(x = df.loc[df['Item_Fat_Content'] == 'Low Fat', 'Item_Visibility'], \n",
        "            color = 'orange', notch=True)\n",
        "f.set(xlim=(0, None))\n",
        "plt.title('Item Visibility: Low Fat vs. Regular')\n",
        "plt.ylabel('Low Fat')\n",
        "plt.xlabel(None)\n",
        "plt.subplot(2, 1, 2)\n",
        "m = sns.boxplot(x = df.loc[df['Item_Fat_Content'] == 'Regular', 'Item_Visibility'], notch = True)\n",
        "m.set(xlim=(0, None))\n",
        "plt.ylabel('Regular')\n",
        "plt.tight_layout();\n",
        "#plt.savefig('AxMI.png', dpi = 300)"
      ],
      "execution_count": 58,
      "outputs": [
        {
          "output_type": "display_data",
          "data": {
            "image/png": "[encoded data removed]",
            "text/plain": [
              "<Figure size 1080x360 with 2 Axes>"
            ]
          },
          "metadata": {
            "tags": []
          }
        }
      ]
    }
  ]
}